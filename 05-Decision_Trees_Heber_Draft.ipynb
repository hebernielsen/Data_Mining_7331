{
 "cells": [
  {
   "cell_type": "markdown",
   "metadata": {},
   "source": [
    "# Decision Trees\n",
    "Let's start with a large dataset and find out how we can use decision trees when our data size is large-sh. We will use the kaggle dataset that attempts to classify plankton. We will use some example code to get us started from the tutorial here:\n",
    "http://www.kaggle.com/c/datasciencebowl/details/tutorial\n",
    "\n",
    "*For questions on this notebook, please contact Professor Eric Larson at eclarson@smu.edu*"
   ]
  },
  {
   "cell_type": "code",
   "execution_count": 1,
   "metadata": {},
   "outputs": [
    {
     "name": "stdout",
     "output_type": "stream",
     "text": [
      "number of classes: 121\n"
     ]
    }
   ],
   "source": [
    "# load another dataset (large) and train using various methods of gradient (and mini-batch)\n",
    "import glob\n",
    "import os\n",
    "\n",
    "# change this to point to the dataset on your machine/cluster!!\n",
    "directory_of_dataset = \"c:/users/admin/documents/kaggle/plankton\"\n",
    "## This is the correct path for Heber\n",
    "\n",
    "# get the classnames from the directory structure\n",
    "directory_names = list(set(glob.glob(os.path.join(directory_of_dataset,\"train\", \"*\"))\n",
    " ).difference(set(glob.glob(os.path.join(directory_of_dataset,\"train\",\"*.*\")))))\n",
    "\n",
    "print ('number of classes:', len(directory_names))"
   ]
  },
  {
   "cell_type": "code",
   "execution_count": 2,
   "metadata": {},
   "outputs": [
    {
     "name": "stdout",
     "output_type": "stream",
     "text": [
      "Reading images\n"
     ]
    },
    {
     "name": "stderr",
     "output_type": "stream",
     "text": [
      "C:\\Users\\Admin\\Anaconda3\\lib\\site-packages\\skimage\\transform\\_warps.py:105: UserWarning: The default mode, 'constant', will be changed to 'reflect' in skimage 0.15.\n",
      "  warn(\"The default mode, 'constant', will be changed to 'reflect' in \"\n",
      "C:\\Users\\Admin\\Anaconda3\\lib\\site-packages\\skimage\\transform\\_warps.py:110: UserWarning: Anti-aliasing will be enabled by default in skimage 0.15 to avoid aliasing artifacts when down-sampling images.\n",
      "  warn(\"Anti-aliasing will be enabled by default in skimage 0.15 to \"\n"
     ]
    },
    {
     "name": "stdout",
     "output_type": "stream",
     "text": [
      "5.0 % done\n",
      "10.0 % done\n",
      "15.0 % done\n",
      "20.0 % done\n",
      "25.0 % done\n",
      "30.0 % done\n",
      "35.0 % done\n",
      "40.0 % done\n",
      "45.0 % done\n",
      "50.0 % done\n",
      "55.0 % done\n",
      "60.0 % done\n",
      "65.0 % done\n",
      "70.0 % done\n",
      "75.0 % done\n",
      "80.0 % done\n",
      "85.0 % done\n",
      "90.0 % done\n",
      "95.0 % done\n",
      "100.0 % done\n"
     ]
    }
   ],
   "source": [
    "# Rescale the images and create the combined metrics and training labels\n",
    "from skimage.transform import resize\n",
    "from skimage.io import imread\n",
    "import numpy as np\n",
    "\n",
    "#get the total training images\n",
    "numberofImages = 0\n",
    "for folder in directory_names:\n",
    "    for fileNameDir in os.walk(folder):   \n",
    "        for fileName in fileNameDir[2]:\n",
    "             # Only read in the images\n",
    "            if fileName[-4:] != \".jpg\":\n",
    "              continue\n",
    "            numberofImages += 1\n",
    "\n",
    "# We'll rescale the images to be 40x40\n",
    "maxPixel = 25\n",
    "imageSize = maxPixel * maxPixel\n",
    "num_rows = numberofImages # one row for each image in the training dataset\n",
    "num_features = imageSize # for our ratio\n",
    "\n",
    "# X is the feature vector with one row of features per image\n",
    "# consisting of the pixel values and our metric\n",
    "X = np.zeros((num_rows, num_features), dtype=float)\n",
    "# y is the numeric class label \n",
    "y = np.zeros((num_rows))\n",
    "\n",
    "files = []\n",
    "# Generate training data\n",
    "i = 0    \n",
    "label = 0\n",
    "# List of string of class names\n",
    "namesClasses = list()\n",
    "\n",
    "print (\"Reading images\")\n",
    "# Navigate through the list of directories\n",
    "for folder in directory_names:\n",
    "    # Append the string class name for each class\n",
    "    currentClass = folder.split(os.pathsep)[-1]\n",
    "    namesClasses.append(currentClass)\n",
    "    for fileNameDir in os.walk(folder):   \n",
    "        for fileName in fileNameDir[2]:\n",
    "            # Only read in the images\n",
    "            if fileName[-4:] != \".jpg\":\n",
    "              continue\n",
    "            \n",
    "            # Read in the images and create the features\n",
    "            nameFileImage = \"{0}{1}{2}\".format(fileNameDir[0], os.sep, fileName)            \n",
    "            image = imread(nameFileImage, as_gray=True)\n",
    "            files.append(nameFileImage)\n",
    "            #axisratio = getMinorMajorRatio(image)\n",
    "            image = resize(image, (maxPixel, maxPixel))\n",
    "            \n",
    "            # Store the rescaled image pixels and the axis ratio\n",
    "            X[i, 0:imageSize] = np.reshape(image, (1, imageSize))\n",
    "            #X[i, imageSize] = axisratio\n",
    "            \n",
    "            # Store the classlabel\n",
    "            y[i] = label\n",
    "            i += 1\n",
    "            # report progress for each 5% done  \n",
    "            report = [int((j+1)*num_rows/20.) for j in range(20)]\n",
    "            if i in report: print (np.ceil(i *100.0 / num_rows), \"% done\")\n",
    "    label += 1"
   ]
  },
  {
   "cell_type": "code",
   "execution_count": 3,
   "metadata": {},
   "outputs": [
    {
     "name": "stdout",
     "output_type": "stream",
     "text": [
      "num features: (30336, 625)\n",
      "num labels: (30336,)\n"
     ]
    }
   ],
   "source": [
    "# here is where the online tutorial code stops and my code starts\n",
    "print ('num features:', X.shape)\n",
    "print ('num labels:', y.shape)"
   ]
  },
  {
   "cell_type": "code",
   "execution_count": 4,
   "metadata": {},
   "outputs": [
    {
     "name": "stdout",
     "output_type": "stream",
     "text": [
      "StratifiedShuffleSplit(n_splits=1, random_state=None, test_size=0.5,\n",
      "            train_size=0.5)\n"
     ]
    }
   ],
   "source": [
    "# now divide the data into test and train using scikit learn built-ins\n",
    "from sklearn.model_selection import StratifiedShuffleSplit \n",
    "\n",
    "cv = StratifiedShuffleSplit(n_splits=1, test_size=0.5, train_size=0.5)\n",
    "print (cv)"
   ]
  },
  {
   "cell_type": "code",
   "execution_count": 5,
   "metadata": {},
   "outputs": [
    {
     "name": "stdout",
     "output_type": "stream",
     "text": [
      "Training Once:\n",
      "Wall time: 20.4 s\n",
      "accuracy: 0.22910073839662448\n"
     ]
    }
   ],
   "source": [
    "from sklearn.tree import DecisionTreeClassifier\n",
    "from sklearn import metrics as mt\n",
    "\n",
    "dt_clf = DecisionTreeClassifier()\n",
    "\n",
    "# now get the training and testing\n",
    "for train, test in cv.split(X,y):\n",
    "    print ('Training Once:')\n",
    "    # train the decision tree algorithm\n",
    "    %time dt_clf.fit(X[train],y[train])\n",
    "    yhat = dt_clf.predict(X[test])\n",
    "    print ('accuracy:', mt.accuracy_score(y[test],yhat))\n",
    "## Heber stopped here Monday, wall time 19.3 s, accuracy 0.229"
   ]
  },
  {
   "cell_type": "code",
   "execution_count": 14,
   "metadata": {},
   "outputs": [],
   "source": [
    "# from the tutorial: http://www.kaggle.com/c/datasciencebowl/details/tutorial \n",
    "def multiclass_log_loss(y_true, y_pred, eps=1e-15):\n",
    "    \"\"\"Multi class version of Logarithmic Loss metric.\n",
    "    https://www.kaggle.com/wiki/MultiClassLogLoss\n",
    "\n",
    "    Parameters\n",
    "    ----------\n",
    "    y_true : array, shape = [n_samples]\n",
    "            true class, integers in [0, n_classes - 1)\n",
    "    y_pred : array, shape = [n_samples, n_classes]\n",
    "\n",
    "    Returns\n",
    "    -------\n",
    "    loss : float\n",
    "    \"\"\"\n",
    "    predictions = np.clip(y_pred, eps, 1 - eps)\n",
    "\n",
    "    # normalize row sums to 1\n",
    "    predictions /= predictions.sum(axis=1)[:, np.newaxis]\n",
    "\n",
    "    actual = np.zeros(y_pred.shape)\n",
    "    n_samples = actual.shape[0]\n",
    "    actual[np.arange(n_samples), y_true.astype(int)] = 1\n",
    "    vectsum = np.sum(actual * np.log(predictions))\n",
    "    loss = -1.0 / n_samples * vectsum\n",
    "    return loss"
   ]
  },
  {
   "cell_type": "code",
   "execution_count": 15,
   "metadata": {},
   "outputs": [
    {
     "name": "stdout",
     "output_type": "stream",
     "text": [
      "Accuracy: 0.23292457805907174\n",
      "Log Loss: 26.493846476449697\n"
     ]
    }
   ],
   "source": [
    "yhat = dt_clf.predict(X[test])\n",
    "class_probabilities = dt_clf.predict_proba(X[test])\n",
    "print ('Accuracy:', mt.accuracy_score(y[test],yhat))\n",
    "print ('Log Loss:', multiclass_log_loss(y[test], class_probabilities))"
   ]
  },
  {
   "cell_type": "code",
   "execution_count": 16,
   "metadata": {},
   "outputs": [
    {
     "name": "stdout",
     "output_type": "stream",
     "text": [
      "Training Once:\n",
      "Accuracy: 0.2893591772151899\n",
      "Log Loss: 24.544710173254625\n"
     ]
    }
   ],
   "source": [
    "from sklearn.decomposition import PCA\n",
    "\n",
    "n_components = 50\n",
    "pca = PCA(n_components=n_components, svd_solver='randomized')\n",
    "\n",
    "for train, test in cv.split(X,y):\n",
    "    print ('Training Once:')\n",
    "    \n",
    "    # transform the data using pca\n",
    "    pca.fit(X[train])\n",
    "    X_train = pca.transform(X[train])\n",
    "    X_test = pca.transform(X[test])\n",
    "    \n",
    "    # train the decision tree algorithm\n",
    "    dt_clf.fit(X_train,y[train])\n",
    "    yhat = dt_clf.predict(X_test)\n",
    "    class_probabilities = dt_clf.predict_proba(X_test)\n",
    "    \n",
    "    print ('Accuracy:', mt.accuracy_score(y[test],yhat))\n",
    "    print ('Log Loss:', multiclass_log_loss(y[test], class_probabilities))\n",
    "    \n",
    "## Heber Stopped Here Feb 19 morning\n",
    "## Accuracy: 0.289\n",
    "## Log Loss: 24.544\n",
    "## Look to see why accuracy improved compared to cell #5 - my last stop place, two cells back"
   ]
  },
  {
   "cell_type": "code",
   "execution_count": 9,
   "metadata": {},
   "outputs": [],
   "source": [
    "log_losses = []\n",
    "accuracies = []\n",
    "params = []\n",
    "\n",
    "from matplotlib import pyplot as plt\n",
    "%matplotlib inline"
   ]
  },
  {
   "cell_type": "code",
   "execution_count": 10,
   "metadata": {},
   "outputs": [
    {
     "name": "stdout",
     "output_type": "stream",
     "text": [
      "Training Once:\n",
      "Accuracy: 0.2222441983122363\n",
      "Log Loss: 3.51923008158486\n"
     ]
    },
    {
     "data": {
      "image/png": "[encoded data removed]",
      "text/plain": [
       "<Figure size 720x288 with 2 Axes>"
      ]
     },
     "metadata": {
      "needs_background": "light"
     },
     "output_type": "display_data"
    }
   ],
   "source": [
    "# how to make it generalize a bit better? \n",
    "\n",
    "# defaults\n",
    "dt_clf = DecisionTreeClassifier(criterion='gini', max_depth=None, \n",
    "                                min_samples_split=2, min_samples_leaf=1, \n",
    "                                max_features=None,\n",
    "                                max_leaf_nodes=None)\n",
    "\n",
    "# overwrite with prepruning methods\n",
    "dt_clf = DecisionTreeClassifier(criterion='entropy', max_depth=5, \n",
    "                                min_samples_split=1000, min_samples_leaf=1, \n",
    "                                max_leaf_nodes=None)\n",
    "\n",
    "for train, test in cv.split(X,y):\n",
    "    print ('Training Once:')\n",
    "    \n",
    "    # transform the data using pca\n",
    "    pca.fit(X[train])\n",
    "    X_train = pca.transform(X[train])\n",
    "    X_test = pca.transform(X[test])\n",
    "    \n",
    "    # train the decision tree algorithm\n",
    "    dt_clf.fit(X_train,y[train])\n",
    "    yhat = dt_clf.predict(X_test)\n",
    "    class_probabilities = dt_clf.predict_proba(X_test)\n",
    "    \n",
    "    # get accuracy and log loss of this training\n",
    "    acc = mt.accuracy_score(y[test],yhat)\n",
    "    ll = multiclass_log_loss(y[test], class_probabilities)\n",
    "    print ('Accuracy:', acc)\n",
    "    print ('Log Loss:', ll)\n",
    "    \n",
    "    # save accuracy, log loss, and params of run\n",
    "    log_losses.append(ll)\n",
    "    accuracies.append(acc)\n",
    "    params.append(dt_clf.get_params())\n",
    "    \n",
    "plt.figure(figsize=(10,4))\n",
    "plt.subplot(1,2,1)\n",
    "plt.bar(range(len(log_losses)),log_losses)\n",
    "plt.title('Log Losses')\n",
    "plt.xlabel('Runs')\n",
    "\n",
    "plt.subplot(1,2,2)\n",
    "plt.bar(range(len(accuracies)),accuracies)\n",
    "plt.title('Accuracies')\n",
    "plt.xlabel('Runs')\n",
    "plt.ylim([0,1])\n",
    "\n",
    "plt.show()"
   ]
  },
  {
   "cell_type": "code",
   "execution_count": 11,
   "metadata": {},
   "outputs": [
    {
     "name": "stdout",
     "output_type": "stream",
     "text": [
      "Log Loss of \"Chance\": 4.795790545596762\n"
     ]
    }
   ],
   "source": [
    "# a telling example for log loss minimization\n",
    "class_probabilities = np.ones((len(y[test]),len(np.unique(y))))\n",
    "print ('Log Loss of \"Chance\":', multiclass_log_loss(y[test], class_probabilities))"
   ]
  },
  {
   "cell_type": "markdown",
   "metadata": {},
   "source": [
    "# Feature Importances\n",
    "The feature importances can be calculated using the Mean decrease in the gini index. Essentially, every time a feature is tested for splitting, the decrease in the gini (or entropy) is saved. The importance of the feature can then be approximated by taking the mean decrease in the gini for all the nodes where the feature is tested (usually the feature is tested at every node):\n",
    "$$ Imp_{A} = \\frac{1}{|T|}\\sum_{t \\in T} gini_A(p_t) - gini_A(t) $$\n",
    "where $|T|$ is the total number of nodes in the tree, $T$ is the set of all nodes, $gini_A(t)$ is the gini for the $A^{th}$ attribute at node $t$, and $gini_A(p_t)$ is the gini for the $A^{th}$ attribute at the **parent** node for $t$.\n",
    "\n",
    "In this way, we have the mean decrease in the gini for attribute $A$. We can make a vector of these importance for all attributes in the dataset: $[Imp_1, Imp_2, ... Imp_{A_{tot}}]$.\n",
    "\n",
    "`scikit-learn` computes this value for you and it is stored inside the tree object as `dt_clf.feature_importances_`. For the current dataset, the images are feature vectors of size 25x25=625 pixels. Therefore we can look at the importances as a bar graph with 625 instances or we can reshape the instances to see the importances as a 25x25 image. Both are done below."
   ]
  },
  {
   "cell_type": "code",
   "execution_count": 12,
   "metadata": {},
   "outputs": [
    {
     "name": "stdout",
     "output_type": "stream",
     "text": [
      "Training Once:\n",
      "accuracy: 0.23292457805907174\n"
     ]
    },
    {
     "data": {
      "image/png": "[encoded data removed]",
      "text/plain": [
       "<Figure size 432x288 with 1 Axes>"
      ]
     },
     "metadata": {
      "needs_background": "light"
     },
     "output_type": "display_data"
    },
    {
     "data": {
      "image/png": "[encoded data removed]",
      "text/plain": [
       "<Figure size 432x288 with 1 Axes>"
      ]
     },
     "metadata": {
      "needs_background": "light"
     },
     "output_type": "display_data"
    }
   ],
   "source": [
    "dt_clf = DecisionTreeClassifier()\n",
    "\n",
    "# now get the training and testing\n",
    "for train, test in cv.split(X,y):\n",
    "    print ('Training Once:')\n",
    "    # train the decision tree algorithm\n",
    "    dt_clf.fit(X[train],y[train])\n",
    "    yhat = dt_clf.predict(X[test])\n",
    "    print ('accuracy:', mt.accuracy_score(y[test],yhat))\n",
    "    \n",
    "# get the importances\n",
    "imp = dt_clf.feature_importances_\n",
    "\n",
    "#plot the importances as bar chart\n",
    "plt.bar(range(len(imp)),imp)\n",
    "\n",
    "# reshape the importances to be size of the original images\n",
    "# and show it\n",
    "imp_as_image = np.reshape(imp,(25,25))\n",
    "plt.figure()\n",
    "plt.imshow((imp_as_image), cmap=plt.cm.gray)\n",
    "\n",
    "plt.show()"
   ]
  },
  {
   "cell_type": "code",
   "execution_count": 13,
   "metadata": {},
   "outputs": [
    {
     "name": "stderr",
     "output_type": "stream",
     "text": [
      "C:\\Users\\Admin\\Anaconda3\\lib\\site-packages\\ipykernel_launcher.py:5: RuntimeWarning: divide by zero encountered in log\n",
      "  \"\"\"\n"
     ]
    },
    {
     "data": {
      "image/png": "[encoded data removed]",
      "text/plain": [
       "<Figure size 1080x1440 with 4 Axes>"
      ]
     },
     "metadata": {
      "needs_background": "light"
     },
     "output_type": "display_data"
    }
   ],
   "source": [
    "from random import randint\n",
    "# look at importances on a log scale\n",
    "plt.figure(figsize=(15,20))\n",
    "plt.subplot(1,4,1)\n",
    "plt.imshow(np.log(imp_as_image), cmap=plt.cm.gray)\n",
    "plt.title('Importances')\n",
    "\n",
    "for i in range(2,5):\n",
    "    plt.subplot(1,4,i)\n",
    "    plt.imshow(np.reshape(X[randint(0,len(X))],(25,25)),cmap=plt.cm.gray)\n",
    "\n",
    "plt.show()"
   ]
  },
  {
   "cell_type": "markdown",
   "metadata": {},
   "source": [
    "# Other Methods for Making the Tree Generalize\n",
    "Everything that sciki-learn implements is used for pre-pruning the tree: that is, we stop making nodes during the decision tree induction process. However, there are other methods that post-prune the tree where:\n",
    "- We build a tree completely\n",
    "- Then select a group a leaf nodes that belong to a split \n",
    "- And, finally decide if we should prune the split (making the parent node a leaf node)\n",
    "- Then repeat until some criteria is met\n",
    "\n",
    "This is called post pruning and can be a good method for creating a decision tree that is not \"overlearned\". Let's look at these in lecture now."
   ]
  },
  {
   "cell_type": "code",
   "execution_count": null,
   "metadata": {},
   "outputs": [],
   "source": []
  }
 ],
 "metadata": {
  "kernelspec": {
   "display_name": "Python 3",
   "language": "python",
   "name": "python3"
  },
  "language_info": {
   "codemirror_mode": {
    "name": "ipython",
    "version": 3
   },
   "file_extension": ".py",
   "mimetype": "text/x-python",
   "name": "python",
   "nbconvert_exporter": "python",
   "pygments_lexer": "ipython3",
   "version": "3.7.1"
  }
 },
 "nbformat": 4,
 "nbformat_minor": 1
}
